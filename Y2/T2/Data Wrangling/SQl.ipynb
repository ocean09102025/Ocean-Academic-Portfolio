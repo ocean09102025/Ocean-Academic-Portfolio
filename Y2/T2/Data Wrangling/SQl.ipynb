{
 "cells": [
  {
   "cell_type": "markdown",
   "id": "aa65767c-56f2-4cb0-9ec6-ad13defb51be",
   "metadata": {},
   "source": [
    "# %% [markdown]\n",
    "\n",
    " Task 6D: pandas vs SQL\n",
    " Name: Ocean\n",
    " Student Number: s223503101\n",
    " Email: s223503101@deakin.edu.au\n",
    " Undergraduate (SIT220)"
   ]
  },
  {
   "cell_type": "markdown",
   "id": "6edccbc4-5495-4a27-b775-2c6786494110",
   "metadata": {},
   "source": [
    "# %% [markdown]\n",
    "\n",
    " Introduction\n",
    " This report aims to replicate SQL queries using pandas, working with the nycflights13 dataset.\n",
    " It involves creating an SQLite database, importing CSVs, and writing equivalent pandas code\n",
    " for various SQL queries while ensuring output parity using pd.testing.assert_frame_equal."
   ]
  },
  {
   "cell_type": "code",
   "execution_count": null,
   "id": "f6f16906-4f2e-4169-927c-ac5fb627b76b",
   "metadata": {},
   "outputs": [
    {
     "data": {
      "text/plain": [
       "26130"
      ]
     },
     "execution_count": 1,
     "metadata": {},
     "output_type": "execute_result"
    }
   ],
   "source": [
    "# %%\n",
    "\n",
    "import pandas as pd\n",
    "import sqlite3\n",
    "\n",
    "# Load datasets\n",
    "planes = pd.read_csv(r\"C:\\Users\\sumit\\Downloads\\New folder (2)\\nycflights13_planes.csv.gz\", comment=\"#\")\n",
    "flights = pd.read_csv(r\"C:\\Users\\sumit\\Downloads\\New folder (2)\\nycflights13_airports.csv.gz\", comment=\"#\")\n",
    "airports = pd.read_csv(r\"C:\\Users\\sumit\\Downloads\\New folder (2)\\nycflights13_flights.csv.gz\", comment=\"#\")\n",
    "airlines = pd.read_csv(r\"C:\\Users\\sumit\\Downloads\\New folder (2)\\nycflights13_airlines.csv.gz\", comment=\"#\")\n",
    "weather = pd.read_csv(r\"C:\\Users\\sumit\\Downloads\\New folder (2)\\nycflights13_weather.csv.gz\", comment=\"#\")\n",
    "\n",
    "# Create SQLite connection\n",
    "conn = sqlite3.connect(\"nycflights.db\")\n",
    "\n",
    "# Export to SQLite\n",
    "planes.to_sql(\"planes\", conn, if_exists=\"replace\", index=False)\n",
    "flights.to_sql(\"flights\", conn, if_exists=\"replace\", index=False)\n",
    "airports.to_sql(\"airports\", conn, if_exists=\"replace\", index=False)\n",
    "airlines.to_sql(\"airlines\", conn, if_exists=\"replace\", index=False)\n",
    "weather.to_sql(\"weather\", conn, if_exists=\"replace\", index=False)"
   ]
  },
  {
   "cell_type": "markdown",
   "id": "cee38895-7904-4a44-8019-65218cc0a6d6",
   "metadata": {},
   "source": [
    "# %% [markdown]\n",
    "\n",
    " ## Query 1: Unique Engine Types\n",
    "\n",
    " This query retrieves all the unique types of aircraft engines in the dataset.\n",
    " It's like asking, “What different engine types are present in all the planes?”\n",
    "\n",
    " We use SQL's `SELECT DISTINCT` and pandas' `drop_duplicates()` to get this result.\n",
    " The output from both methods is compared to confirm correctness."
   ]
  },
  {
   "cell_type": "code",
   "execution_count": null,
   "id": "fcb83c52-b64c-4a9c-a98d-a1bc16e8220f",
   "metadata": {},
   "outputs": [
    {
     "name": "stdout",
     "output_type": "stream",
     "text": [
      "Pandas Query 1 Result:\n",
      "             engine\n",
      "0        Turbo-fan\n",
      "51       Turbo-jet\n",
      "424  Reciprocating\n",
      "686        4 Cycle\n",
      "811    Turbo-shaft\n",
      " Query 1: SQL and pandas results match.\n"
     ]
    }
   ],
   "source": [
    "# %%\n",
    "\n",
    "# SQL query \n",
    "query1_sql = pd.read_sql_query(\"SELECT DISTINCT engine FROM planes\", conn)\n",
    "\n",
    "# Equivalent pandas query\n",
    "query1_pd = planes[[\"engine\"]].drop_duplicates()\n",
    "\n",
    "# Print the pandas output\n",
    "print(\"Pandas Query 1 Result:\\n\", query1_pd.head())\n",
    "\n",
    "# Check if both outputs match\n",
    "pd.testing.assert_frame_equal(\n",
    "    query1_sql.sort_values(\"engine\").reset_index(drop=True),\n",
    "    query1_pd.sort_values(\"engine\").reset_index(drop=True)\n",
    ")\n",
    "\n",
    "# Final confirmation\n",
    "print(\" Query 1: SQL and pandas results match.\")"
   ]
  },
  {
   "cell_type": "markdown",
   "id": "9ef0e1f4-2ca9-4d84-9b42-72e993900695",
   "metadata": {},
   "source": [
    "# %% [markdown]\n",
    "\n",
    " ## Query 2: Unique Type-Engine Combinations\n",
    "\n",
    " This query retrieves all unique combinations of aircraft `type` and `engine`.\n",
    " It's like asking, “Which types of planes are paired with which engine types?”\n",
    "\n",
    " We use SQL's `SELECT DISTINCT type, engine` and pandas' `drop_duplicates()` on both columns.\n",
    " The outputs are compared to ensure both methods yield the same result."
   ]
  },
  {
   "cell_type": "code",
   "execution_count": null,
   "id": "2bdf7713-e469-4c9f-a47b-2a99a6653134",
   "metadata": {},
   "outputs": [
    {
     "name": "stdout",
     "output_type": "stream",
     "text": [
      "Pandas Query 2 Result:\n",
      "                          type         engine\n",
      "0     Fixed wing multi engine      Turbo-fan\n",
      "51    Fixed wing multi engine      Turbo-jet\n",
      "424  Fixed wing single engine  Reciprocating\n",
      "427   Fixed wing multi engine  Reciprocating\n",
      "686  Fixed wing single engine        4 Cycle\n",
      " Query 2: SQL and pandas results match.\n"
     ]
    }
   ],
   "source": [
    "# %%\n",
    "\n",
    "# SQL query \n",
    "query2_sql = pd.read_sql_query(\"SELECT DISTINCT type, engine FROM planes\", conn)\n",
    "\n",
    "# Equivalent pandas query\n",
    "query2_pd = planes[[\"type\", \"engine\"]].drop_duplicates()\n",
    "\n",
    "# Print the pandas output\n",
    "print(\"Pandas Query 2 Result:\\n\", query2_pd.head())\n",
    "\n",
    "# Validate equivalence\n",
    "pd.testing.assert_frame_equal(\n",
    "    query2_sql.sort_values(by=[\"type\", \"engine\"]).reset_index(drop=True),\n",
    "    query2_pd.sort_values(by=[\"type\", \"engine\"]).reset_index(drop=True)\n",
    ")\n",
    "\n",
    "# Final confirmation\n",
    "print(\" Query 2: SQL and pandas results match.\")"
   ]
  },
  {
   "cell_type": "markdown",
   "id": "301e2ffa-9f26-48c6-92b3-38fdfa322508",
   "metadata": {},
   "source": [
    "# %% [markdown]\n",
    "\n",
    " ## Query 3: Count of Planes by Engine Type\n",
    "\n",
    " This query counts how many planes use each type of engine.\n",
    " Imagine you’re saying, “Tell me how many planes use turbofan, turbojet, etc.”\n",
    "\n",
    " SQL uses `GROUP BY engine` and `COUNT(*)`. In pandas, we use `groupby()` and `size()`.\n",
    " We reorder columns and validate the result."
   ]
  },
  {
   "cell_type": "code",
   "execution_count": null,
   "id": "72e5a8ff-5b08-4770-8181-edca170a20bb",
   "metadata": {},
   "outputs": [
    {
     "name": "stdout",
     "output_type": "stream",
     "text": [
      "Pandas Query 3 Result:\n",
      "           engine  count\n",
      "0        4 Cycle      2\n",
      "1  Reciprocating     28\n",
      "2      Turbo-fan   2750\n",
      "3      Turbo-jet    535\n",
      "4     Turbo-prop      2\n",
      " Query 3: SQL and pandas results match.\n"
     ]
    }
   ],
   "source": [
    "# %%\n",
    "\n",
    "# SQL query\n",
    "query3_sql = pd.read_sql_query(\"SELECT COUNT(*) as count, engine FROM planes GROUP BY engine\", conn)\n",
    "query3_sql = query3_sql[[\"engine\", \"count\"]]  # ensure column order matches pandas\n",
    "\n",
    "# pandas equivalent\n",
    "query3_pd = planes.groupby(\"engine\").size().reset_index(name=\"count\")\n",
    "\n",
    "# Print pandas output\n",
    "print(\"Pandas Query 3 Result:\\n\", query3_pd.head())\n",
    "\n",
    "# Validation\n",
    "pd.testing.assert_frame_equal(\n",
    "    query3_sql.sort_values(\"engine\").reset_index(drop=True),\n",
    "    query3_pd.sort_values(\"engine\").reset_index(drop=True)\n",
    ")\n",
    "\n",
    "# Final confirmation\n",
    "print(\" Query 3: SQL and pandas results match.\")"
   ]
  },
  {
   "cell_type": "markdown",
   "id": "afdd4a67-6483-406a-b4fd-45f367997f43",
   "metadata": {},
   "source": [
    "# %% [markdown]\n",
    "\n",
    " ## Query 4: Count of Planes by Engine and Type\n",
    "\n",
    " This query counts how many planes exist for each unique combination of engine type and aircraft type.\n",
    " It answers: “How many planes are there for each engine–type pairing?”\n",
    "\n",
    " SQL uses `GROUP BY engine, type`, while pandas uses `groupby([\"engine\", \"type\"])`.\n",
    " The output is then compared after sorting and resetting the index."
   ]
  },
  {
   "cell_type": "code",
   "execution_count": null,
   "id": "6c0889a8-8be9-4ba4-9fdc-c9d080aae38a",
   "metadata": {},
   "outputs": [
    {
     "name": "stdout",
     "output_type": "stream",
     "text": [
      "Pandas Query 4 Result:\n",
      "           engine                      type  count\n",
      "0        4 Cycle  Fixed wing single engine      2\n",
      "1  Reciprocating   Fixed wing multi engine      5\n",
      "2  Reciprocating  Fixed wing single engine     23\n",
      "3      Turbo-fan   Fixed wing multi engine   2750\n",
      "4      Turbo-jet   Fixed wing multi engine    535\n",
      " Query 4: SQL and pandas results match.\n"
     ]
    }
   ],
   "source": [
    "# %%\n",
    "\n",
    "# SQL query\n",
    "query4_sql = pd.read_sql_query(\n",
    "    \"SELECT COUNT(*) as count, engine, type FROM planes GROUP BY engine, type\",\n",
    "    conn\n",
    ")\n",
    "query4_sql = query4_sql[[\"engine\", \"type\", \"count\"]]  # reorder to match pandas\n",
    "\n",
    "# pandas equivalent\n",
    "query4_pd = planes.groupby([\"engine\", \"type\"]).size().reset_index(name=\"count\")\n",
    "\n",
    "# Print pandas output\n",
    "print(\"Pandas Query 4 Result:\\n\", query4_pd.head())\n",
    "\n",
    "# Validation\n",
    "pd.testing.assert_frame_equal(\n",
    "    query4_sql.sort_values(by=[\"engine\", \"type\"]).reset_index(drop=True),\n",
    "    query4_pd.sort_values(by=[\"engine\", \"type\"]).reset_index(drop=True)\n",
    ")\n",
    "\n",
    "# Final confirmation\n",
    "print(\" Query 4: SQL and pandas results match.\")"
   ]
  },
  {
   "cell_type": "markdown",
   "id": "a370c48a-d9fb-4fe6-8642-9d5c5a8ea2cf",
   "metadata": {},
   "source": [
    "# %% [markdown]\n",
    "\n",
    " ## Query 5: Plane Age Statistics by Engine and Manufacturer\n",
    "\n",
    " This query shows the **oldest**, **average**, and **newest** manufacturing year of planes,\n",
    " grouped by their engine type and manufacturer.\n",
    "\n",
    " It answers the question: “For each engine-manufacturer combo, what's the range of manufacturing years?”\n",
    "\n",
    " SQL uses `MIN`, `AVG`, `MAX` with `GROUP BY`, while pandas uses `.agg()` with grouped data."
   ]
  },
  {
   "cell_type": "code",
   "execution_count": null,
   "id": "cd0df195-c8ff-495e-8ba4-03549242c98b",
   "metadata": {},
   "outputs": [
    {
     "name": "stdout",
     "output_type": "stream",
     "text": [
      "Pandas Query 5 Result:\n",
      "           engine           manufacturer  min_year  avg_year  max_year\n",
      "0        4 Cycle                 CESSNA    1975.0    1975.0    1975.0\n",
      "1        4 Cycle            JOHN G HESS       NaN       NaN       NaN\n",
      "2  Reciprocating  AMERICAN AIRCRAFT INC       NaN       NaN       NaN\n",
      "3  Reciprocating     AVIAT AIRCRAFT INC    2007.0    2007.0    2007.0\n",
      "4  Reciprocating          BARKER JACK L       NaN       NaN       NaN\n",
      " Query 5: SQL and pandas results match.\n"
     ]
    }
   ],
   "source": [
    "# %%\n",
    "\n",
    "# SQL query\n",
    "query5_sql = pd.read_sql_query(\"\"\"\n",
    "    SELECT MIN(year) AS min_year, AVG(year) AS avg_year, MAX(year) AS max_year, engine, manufacturer\n",
    "    FROM planes\n",
    "    GROUP BY engine, manufacturer\n",
    "\"\"\", conn)\n",
    "\n",
    "# Reorder columns to match pandas result\n",
    "query5_sql = query5_sql[[\"engine\", \"manufacturer\", \"min_year\", \"avg_year\", \"max_year\"]]\n",
    "\n",
    "# pandas equivalent\n",
    "query5_pd = planes.groupby([\"engine\", \"manufacturer\"]).agg({\n",
    "    \"year\": [\"min\", \"mean\", \"max\"]\n",
    "}).reset_index()\n",
    "\n",
    "# Flatten multi-level column names\n",
    "query5_pd.columns = [\"engine\", \"manufacturer\", \"min_year\", \"avg_year\", \"max_year\"]\n",
    "\n",
    "# Print pandas output\n",
    "print(\"Pandas Query 5 Result:\\n\", query5_pd.head())\n",
    "\n",
    "# Validation\n",
    "pd.testing.assert_frame_equal(\n",
    "    query5_sql.sort_values(by=[\"engine\", \"manufacturer\"]).reset_index(drop=True),\n",
    "    query5_pd.sort_values(by=[\"engine\", \"manufacturer\"]).reset_index(drop=True)\n",
    ")\n",
    "\n",
    "# Final confirmation\n",
    "print(\" Query 5: SQL and pandas results match.\")"
   ]
  },
  {
   "cell_type": "markdown",
   "id": "231683cc-dc75-49a6-a1d3-dd5d73e43bc5",
   "metadata": {},
   "source": [
    "# %% [markdown]\n",
    "\n",
    " ## Query 6: Planes with Non-Null Speed\n",
    "\n",
    " This query filters the dataset to return only those planes that have a recorded (non-null) `speed` value.\n",
    " In simple terms, it's like asking: “Which planes have a known speed?”\n",
    "\n",
    " SQL uses `WHERE speed IS NOT NULL`, while pandas uses `.notna()` to achieve the same effect."
   ]
  },
  {
   "cell_type": "code",
   "execution_count": null,
   "id": "b049dd4b-d95b-4d40-b5f1-e550a002b3e0",
   "metadata": {},
   "outputs": [
    {
     "name": "stdout",
     "output_type": "stream",
     "text": [
      "Pandas Query 6 Result:\n",
      "   tailnum    year                      type manufacturer      model  engines  \\\n",
      "0  N201AA  1959.0  Fixed wing single engine       CESSNA        150        1   \n",
      "1  N202AA  1980.0   Fixed wing multi engine       CESSNA       421C        2   \n",
      "2  N350AA  1980.0   Fixed wing multi engine        PIPER  PA-31-350        2   \n",
      "3  N364AA  1973.0   Fixed wing multi engine       CESSNA       310Q        2   \n",
      "4  N378AA  1963.0  Fixed wing single engine       CESSNA       172E        1   \n",
      "\n",
      "   seats  speed         engine  \n",
      "0      2   90.0  Reciprocating  \n",
      "1      8   90.0  Reciprocating  \n",
      "2      8  162.0  Reciprocating  \n",
      "3      6  167.0  Reciprocating  \n",
      "4      4  105.0  Reciprocating  \n",
      " Query 6: SQL and pandas results match.\n"
     ]
    }
   ],
   "source": [
    "# %%\n",
    "\n",
    "# SQL query\n",
    "query6_sql = pd.read_sql_query(\"SELECT * FROM planes WHERE speed IS NOT NULL\", conn)\n",
    "\n",
    "# pandas equivalent\n",
    "query6_pd = planes[planes[\"speed\"].notna()].reset_index(drop=True)\n",
    "\n",
    "# Print pandas output\n",
    "print(\"Pandas Query 6 Result:\\n\", query6_pd.head())\n",
    "\n",
    "# Validation\n",
    "pd.testing.assert_frame_equal(\n",
    "    query6_sql.sort_values(\"tailnum\").reset_index(drop=True),\n",
    "    query6_pd.sort_values(\"tailnum\").reset_index(drop=True)\n",
    ")\n",
    "\n",
    "# Final confirmation\n",
    "print(\" Query 6: SQL and pandas results match.\")"
   ]
  },
  {
   "cell_type": "markdown",
   "id": "f5cb38cc-d563-40ea-b4cc-3bd9450ad9ac",
   "metadata": {},
   "source": [
    "# %% [markdown]\n",
    "\n",
    " ## Query 7: Planes with 150–210 Seats and Manufactured After 2010\n",
    "\n",
    " This query filters the dataset to include only planes that:\n",
    " - have a seating capacity between 150 and 210 (inclusive), **and**\n",
    " - were manufactured in 2011 or later.\n",
    "\n",
    " It's like saying: “Give me all fairly recent planes that are mid-sized.”\n",
    "\n",
    " SQL uses `BETWEEN` and `>=`. In pandas, we use `.between()` and logical conditions."
   ]
  },
  {
   "cell_type": "code",
   "execution_count": null,
   "id": "5f6877a8-f3a5-481f-93ba-04768f846347",
   "metadata": {},
   "outputs": [
    {
     "name": "stdout",
     "output_type": "stream",
     "text": [
      "Pandas Query 7 Result:\n",
      "     tailnum\n",
      "215  N150UW\n",
      "216  N151UW\n",
      "218  N152UW\n",
      "221  N153UW\n",
      "223  N154UW\n",
      " Query 7: SQL and pandas results match.\n"
     ]
    }
   ],
   "source": [
    "# %%\n",
    "\n",
    "# SQL query\n",
    "query7_sql = pd.read_sql_query(\"\"\"\n",
    "    SELECT tailnum FROM planes\n",
    "    WHERE seats BETWEEN 150 AND 210 AND year >= 2011\n",
    "\"\"\", conn)\n",
    "\n",
    "# pandas equivalent\n",
    "query7_pd = planes[\n",
    "    (planes[\"seats\"].between(150, 210)) & (planes[\"year\"] >= 2011)\n",
    "][[\"tailnum\"]]\n",
    "\n",
    "# Print pandas output\n",
    "print(\"Pandas Query 7 Result:\\n\", query7_pd.head())\n",
    "\n",
    "# Validation\n",
    "pd.testing.assert_frame_equal(\n",
    "    query7_sql.sort_values(\"tailnum\").reset_index(drop=True),\n",
    "    query7_pd.sort_values(\"tailnum\").reset_index(drop=True)\n",
    ")\n",
    "\n",
    "# Final confirmation\n",
    "print(\" Query 7: SQL and pandas results match.\")"
   ]
  },
  {
   "cell_type": "markdown",
   "id": "5f6a3806-9df3-46ac-8510-65e5ce25906a",
   "metadata": {},
   "source": [
    "# %% [markdown]\n",
    "\n",
    " ## Query 8: Large Planes from Specific Manufacturers\n",
    "\n",
    " This query selects planes made by **BOEING**, **AIRBUS**, or **EMBRAER**, and with more than 390 seats.\n",
    "\n",
    " It's like asking: “Show me the very large planes from these three major manufacturers.”\n",
    "\n",
    " SQL uses `IN (...)` and a condition on `seats > 390`. In pandas, we use `.isin()` and a logical `&`."
   ]
  },
  {
   "cell_type": "code",
   "execution_count": null,
   "id": "26bb90d6-0fed-4b1d-8414-30930fe88426",
   "metadata": {},
   "outputs": [
    {
     "name": "stdout",
     "output_type": "stream",
     "text": [
      "Pandas Query 8 Result:\n",
      "      tailnum manufacturer  seats\n",
      "439   N206UA       BOEING    400\n",
      "484   N228UA       BOEING    400\n",
      "577   N272AT       BOEING    400\n",
      "1708  N57016       BOEING    400\n",
      "2109  N670US       BOEING    450\n",
      " Query 8: SQL and pandas results match.\n"
     ]
    }
   ],
   "source": [
    "# %%\n",
    "\n",
    "# SQL query\n",
    "query8_sql = pd.read_sql_query(\"\"\"\n",
    "    SELECT tailnum, manufacturer, seats FROM planes\n",
    "    WHERE manufacturer IN ('BOEING', 'AIRBUS', 'EMBRAER') AND seats > 390\n",
    "\"\"\", conn)\n",
    "\n",
    "# pandas equivalent\n",
    "query8_pd = planes[\n",
    "    planes[\"manufacturer\"].isin([\"BOEING\", \"AIRBUS\", \"EMBRAER\"]) & (planes[\"seats\"] > 390)\n",
    "][[\"tailnum\", \"manufacturer\", \"seats\"]]\n",
    "\n",
    "# Print pandas output\n",
    "print(\"Pandas Query 8 Result:\\n\", query8_pd.head())\n",
    "\n",
    "# Validation\n",
    "pd.testing.assert_frame_equal(\n",
    "    query8_sql.sort_values(\"tailnum\").reset_index(drop=True),\n",
    "    query8_pd.sort_values(\"tailnum\").reset_index(drop=True)\n",
    ")\n",
    "\n",
    "# Final confirmation\n",
    "print(\" Query 8: SQL and pandas results match.\")"
   ]
  },
  {
   "cell_type": "markdown",
   "id": "8da1e414-4f12-45e5-bc3d-d27a6bb0468d",
   "metadata": {},
   "source": [
    "# %% [markdown]\n",
    "\n",
    " ## Query 9: Distinct Year–Seat Combinations After 2011\n",
    "\n",
    " This query retrieves all **unique combinations** of `year` and `seats` for planes manufactured in **2012 or later**,\n",
    " sorted first by **year in ascending order** and then by **seats in descending order**.\n",
    "\n",
    " It's like saying: “Among newer planes, what unique combinations of year and seat count exist?”\n",
    "\n",
    " SQL uses `SELECT DISTINCT` and `ORDER BY year ASC, seats DESC`.\n",
    " pandas uses `drop_duplicates()` and `sort_values()`."
   ]
  },
  {
   "cell_type": "code",
   "execution_count": null,
   "id": "b561a944-d7dd-4cd2-b276-52c24639357f",
   "metadata": {},
   "outputs": [
    {
     "name": "stdout",
     "output_type": "stream",
     "text": [
      "Pandas Query 9 Result:\n",
      "      year  seats\n",
      "0  2012.0    379\n",
      "1  2012.0    377\n",
      "2  2012.0    260\n",
      "3  2012.0    222\n",
      "4  2012.0    200\n",
      " Query 9: SQL and pandas results match.\n"
     ]
    }
   ],
   "source": [
    "# %%\n",
    "\n",
    "# SQL query\n",
    "query9_sql = pd.read_sql_query(\"\"\"\n",
    "    SELECT DISTINCT year, seats FROM planes\n",
    "    WHERE year >= 2012\n",
    "    ORDER BY year ASC, seats DESC\n",
    "\"\"\", conn)\n",
    "\n",
    "# pandas equivalent\n",
    "query9_pd = planes[planes[\"year\"] >= 2012][[\"year\", \"seats\"]].drop_duplicates()\n",
    "query9_pd = query9_pd.sort_values(by=[\"year\", \"seats\"], ascending=[True, False]).reset_index(drop=True)\n",
    "\n",
    "# Print pandas output\n",
    "print(\"Pandas Query 9 Result:\\n\", query9_pd.head())\n",
    "\n",
    "# Validation\n",
    "pd.testing.assert_frame_equal(query9_sql, query9_pd)\n",
    "\n",
    "# Final confirmation\n",
    "print(\" Query 9: SQL and pandas results match.\")"
   ]
  },
  {
   "cell_type": "markdown",
   "id": "9db67458-668d-4985-a701-178a58bc725d",
   "metadata": {},
   "source": [
    "# %% [markdown]\n",
    "\n",
    " ## Query 10: Distinct Year–Seat Combinations (Seats DESC, Year ASC)\n",
    "\n",
    " This query is similar to Query 9 but with a different **sort order**.\n",
    " It still finds unique combinations of `year` and `seats` for planes made from **2012 onwards**,\n",
    " but now sorts results by **seats in descending order**, then **year in ascending order**.\n",
    "\n",
    " It's like asking: “Among newer planes, list all distinct year-seat combos, starting with the biggest planes.”"
   ]
  },
  {
   "cell_type": "code",
   "execution_count": null,
   "id": "531cde46-905e-4a21-9d7a-5a9fe8f95570",
   "metadata": {},
   "outputs": [
    {
     "name": "stdout",
     "output_type": "stream",
     "text": [
      "Pandas Query 10 Result:\n",
      "      year  seats\n",
      "0  2012.0    379\n",
      "1  2013.0    379\n",
      "2  2012.0    377\n",
      "3  2013.0    377\n",
      "4  2012.0    260\n",
      " Query 10: SQL and pandas results match.\n"
     ]
    }
   ],
   "source": [
    "# %%\n",
    "\n",
    "# SQL query\n",
    "query10_sql = pd.read_sql_query(\"\"\"\n",
    "    SELECT DISTINCT year, seats FROM planes\n",
    "    WHERE year >= 2012\n",
    "    ORDER BY seats DESC, year ASC\n",
    "\"\"\", conn)\n",
    "\n",
    "# pandas equivalent\n",
    "query10_pd = planes[planes[\"year\"] >= 2012][[\"year\", \"seats\"]].drop_duplicates()\n",
    "query10_pd = query10_pd.sort_values(by=[\"seats\", \"year\"], ascending=[False, True]).reset_index(drop=True)\n",
    "\n",
    "# Print pandas output\n",
    "print(\"Pandas Query 10 Result:\\n\", query10_pd.head())\n",
    "\n",
    "# Validation\n",
    "pd.testing.assert_frame_equal(query10_sql, query10_pd)\n",
    "\n",
    "# Final confirmation\n",
    "print(\" Query 10: SQL and pandas results match.\")"
   ]
  },
  {
   "cell_type": "markdown",
   "id": "8b9ae90b-4c3a-4702-a35c-a3c2248bdacc",
   "metadata": {},
   "source": [
    "# %% [markdown]\n",
    "\n",
    " ## Query 11: Count of Large Planes by Manufacturer\n",
    "\n",
    " This query counts how many planes with **more than 200 seats** each manufacturer has.\n",
    "\n",
    " It answers the question: “Which manufacturers have large aircraft in the dataset, and how many?”\n",
    "\n",
    " SQL uses a `WHERE` clause followed by `GROUP BY manufacturer`.\n",
    " pandas applies a filter first, then `groupby()` and `size()`."
   ]
  },
  {
   "cell_type": "code",
   "execution_count": null,
   "id": "3b1bd8d3-46b5-4648-be0e-c797bec2dba3",
   "metadata": {},
   "outputs": [
    {
     "name": "stdout",
     "output_type": "stream",
     "text": [
      "Pandas Query 11 Result:\n",
      "        manufacturer  COUNT(*)\n",
      "0            AIRBUS        66\n",
      "1  AIRBUS INDUSTRIE         4\n",
      "2            BOEING       225\n",
      " Query 11: SQL and pandas results match.\n"
     ]
    }
   ],
   "source": [
    "# %%\n",
    "\n",
    "# SQL query\n",
    "query11_sql = pd.read_sql_query(\"\"\"\n",
    "    SELECT manufacturer, COUNT(*) FROM planes\n",
    "    WHERE seats > 200\n",
    "    GROUP BY manufacturer\n",
    "\"\"\", conn)\n",
    "\n",
    "# pandas equivalent\n",
    "query11_pd = planes[planes[\"seats\"] > 200].groupby(\"manufacturer\").size().reset_index(name=\"COUNT(*)\")\n",
    "\n",
    "# Print pandas output\n",
    "print(\"Pandas Query 11 Result:\\n\", query11_pd.head())\n",
    "\n",
    "# Validation\n",
    "pd.testing.assert_frame_equal(\n",
    "    query11_sql.sort_values(\"manufacturer\").reset_index(drop=True),\n",
    "    query11_pd.sort_values(\"manufacturer\").reset_index(drop=True)\n",
    ")\n",
    "\n",
    "# Final confirmation\n",
    "print(\" Query 11: SQL and pandas results match.\")"
   ]
  },
  {
   "cell_type": "markdown",
   "id": "311f89f1-9d57-42c9-b561-2968bdbd19d5",
   "metadata": {},
   "source": [
    "# %% [markdown]\n",
    "\n",
    " ## Query 12: Manufacturers with More Than 10 Planes\n",
    "\n",
    " This query returns only those manufacturers that appear more than 10 times in the dataset.\n",
    " In SQL, this is done using a `GROUP BY` with a `HAVING COUNT(*) > 10` clause.\n",
    "\n",
    " In pandas, we first `groupby()` and filter groups where the count exceeds 10,\n",
    " then count again by manufacturer."
   ]
  },
  {
   "cell_type": "code",
   "execution_count": null,
   "id": "f259892a-fe32-4703-baed-c4a616d995d5",
   "metadata": {},
   "outputs": [
    {
     "name": "stdout",
     "output_type": "stream",
     "text": [
      "Pandas Query 12 Result:\n",
      "        manufacturer  COUNT(*)\n",
      "0            AIRBUS       336\n",
      "1  AIRBUS INDUSTRIE       400\n",
      "2            BOEING      1630\n",
      "3    BOMBARDIER INC       368\n",
      "4           EMBRAER       299\n",
      " Query 12: SQL and pandas results match.\n"
     ]
    }
   ],
   "source": [
    "# %%\n",
    "\n",
    "# SQL query\n",
    "query12_sql = pd.read_sql_query(\"\"\"\n",
    "    SELECT manufacturer, COUNT(*) FROM planes\n",
    "    GROUP BY manufacturer\n",
    "    HAVING COUNT(*) > 10\n",
    "\"\"\", conn)\n",
    "\n",
    "# pandas equivalent\n",
    "query12_pd = planes.groupby(\"manufacturer\").filter(lambda x: len(x) > 10)\n",
    "query12_pd = query12_pd.groupby(\"manufacturer\").size().reset_index(name=\"COUNT(*)\")\n",
    "\n",
    "# Print pandas output\n",
    "print(\"Pandas Query 12 Result:\\n\", query12_pd.head())\n",
    "\n",
    "# Validation\n",
    "pd.testing.assert_frame_equal(\n",
    "    query12_sql.sort_values(\"manufacturer\").reset_index(drop=True),\n",
    "    query12_pd.sort_values(\"manufacturer\").reset_index(drop=True)\n",
    ")\n",
    "\n",
    "# Final confirmation\n",
    "print(\" Query 12: SQL and pandas results match.\")"
   ]
  },
  {
   "cell_type": "markdown",
   "id": "4766bfbf-a4d6-47e2-b9a1-386417c8992f",
   "metadata": {},
   "source": [
    "# %% [markdown]\n",
    "\n",
    " ## Query 13: Manufacturers with >10 Large Planes (Seats > 200)\n",
    "\n",
    " This query filters for manufacturers who have **more than 10 planes** that each have **more than 200 seats**.\n",
    "\n",
    " It combines two conditions:\n",
    " 1. Filter planes with `seats > 200`\n",
    " 2. Group by manufacturer and only keep those with a **count greater than 10**\n",
    "\n",
    " This is a combined `WHERE` and `HAVING` clause in SQL. pandas handles it using a `filter()` on groups."
   ]
  },
  {
   "cell_type": "code",
   "execution_count": null,
   "id": "b494c479-3684-4ad3-ba17-5e0d0274a28c",
   "metadata": {},
   "outputs": [
    {
     "name": "stdout",
     "output_type": "stream",
     "text": [
      "Pandas Query 13 Result:\n",
      "   manufacturer  COUNT(*)\n",
      "0       AIRBUS        66\n",
      "1       BOEING       225\n",
      " Query 13: SQL and pandas results match.\n"
     ]
    }
   ],
   "source": [
    "# %%\n",
    "\n",
    "# SQL query\n",
    "query13_sql = pd.read_sql_query(\"\"\"\n",
    "    SELECT manufacturer, COUNT(*) FROM planes\n",
    "    WHERE seats > 200\n",
    "    GROUP BY manufacturer\n",
    "    HAVING COUNT(*) > 10\n",
    "\"\"\", conn)\n",
    "\n",
    "# pandas equivalent\n",
    "query13_pd = planes[planes[\"seats\"] > 200]\n",
    "query13_pd = query13_pd.groupby(\"manufacturer\").filter(lambda x: len(x) > 10)\n",
    "query13_pd = query13_pd.groupby(\"manufacturer\").size().reset_index(name=\"COUNT(*)\")\n",
    "\n",
    "# Print pandas output\n",
    "print(\"Pandas Query 13 Result:\\n\", query13_pd.head())\n",
    "\n",
    "# Validation\n",
    "pd.testing.assert_frame_equal(\n",
    "    query13_sql.sort_values(\"manufacturer\").reset_index(drop=True),\n",
    "    query13_pd.sort_values(\"manufacturer\").reset_index(drop=True)\n",
    ")\n",
    "\n",
    "# Final confirmation\n",
    "print(\" Query 13: SQL and pandas results match.\")"
   ]
  },
  {
   "cell_type": "markdown",
   "id": "0c8dbf8c-c211-46a4-8141-c979c075e82b",
   "metadata": {},
   "source": [
    "# %% [markdown]\n",
    "\n",
    " ## Query 14: Top 10 Manufacturers by Number of Planes\n",
    "\n",
    " This query finds the top 10 aircraft manufacturers based on the number of planes they have in the dataset.\n",
    "\n",
    " It answers: “Which manufacturers appear most frequently, and how many planes do they have?”\n",
    "\n",
    " SQL uses `GROUP BY`, `COUNT(*)`, `ORDER BY DESC`, and `LIMIT 10`.\n",
    " In pandas, we group by manufacturer, count, sort in descending order, and take the top 10 rows."
   ]
  },
  {
   "cell_type": "code",
   "execution_count": null,
   "id": "d1fa9f26-7854-4828-9940-3b033572dc92",
   "metadata": {},
   "outputs": [
    {
     "name": "stdout",
     "output_type": "stream",
     "text": [
      "Pandas Query 14 Result:\n",
      "                     manufacturer  howmany\n",
      "0                         BOEING     1630\n",
      "1               AIRBUS INDUSTRIE      400\n",
      "2                 BOMBARDIER INC      368\n",
      "3                         AIRBUS      336\n",
      "4                        EMBRAER      299\n",
      "5              MCDONNELL DOUGLAS      120\n",
      "6  MCDONNELL DOUGLAS AIRCRAFT CO      103\n",
      "7  MCDONNELL DOUGLAS CORPORATION       14\n",
      "8                         CESSNA        9\n",
      "9                       CANADAIR        9\n",
      " Query 14: SQL and pandas results match.\n"
     ]
    }
   ],
   "source": [
    "# %%\n",
    "\n",
    "# SQL query\n",
    "query14_sql = pd.read_sql_query(\"\"\"\n",
    "    SELECT manufacturer, COUNT(*) AS howmany FROM planes\n",
    "    GROUP BY manufacturer\n",
    "    ORDER BY howmany DESC\n",
    "    LIMIT 10\n",
    "\"\"\", conn)\n",
    "\n",
    "# pandas equivalent\n",
    "query14_pd = planes.groupby(\"manufacturer\").size().reset_index(name=\"howmany\")\n",
    "query14_pd = query14_pd.sort_values(\"howmany\", ascending=False).head(10).reset_index(drop=True)\n",
    "\n",
    "# Print pandas output\n",
    "print(\"Pandas Query 14 Result:\\n\", query14_pd)\n",
    "\n",
    "# Validation\n",
    "pd.testing.assert_frame_equal(query14_sql, query14_pd)\n",
    "\n",
    "# Final confirmation\n",
    "print(\" Query 14: SQL and pandas results match.\")"
   ]
  },
  {
   "cell_type": "markdown",
   "id": "b731bd19-3df3-4d19-9cf8-9a30577da2f8",
   "metadata": {},
   "source": [
    "# %% [markdown]\n",
    "\n",
    " ## Query 15: Merge Flight Data with Plane Details\n",
    "\n",
    " This query performs a **left join** between the `flights` and `planes` tables on the `tailnum` field.\n",
    "\n",
    " The goal is to enrich each flight record with additional aircraft details: `year`, `speed`, and `seats`.\n",
    "\n",
    " This is like saying: “Add plane information (year, speed, seats) to each flight, matched by tail number.”\n",
    "\n",
    " SQL uses `LEFT JOIN`. In pandas, we use `pd.merge(..., how=\"left\")`."
   ]
  },
  {
   "cell_type": "code",
   "execution_count": null,
   "id": "4e926bde-065d-40b3-bfea-0aaf1b6c0301",
   "metadata": {},
   "outputs": [
    {
     "name": "stdout",
     "output_type": "stream",
     "text": [
      "Pandas Query 15 Result (first 5 rows):\n",
      "    year  month  day  dep_time  sched_dep_time  dep_delay  arr_time  \\\n",
      "0  2013      1    1     517.0             515        2.0     830.0   \n",
      "1  2013      1    1     533.0             529        4.0     850.0   \n",
      "2  2013      1    1     542.0             540        2.0     923.0   \n",
      "3  2013      1    1     544.0             545       -1.0    1004.0   \n",
      "4  2013      1    1     554.0             600       -6.0     812.0   \n",
      "\n",
      "   sched_arr_time  arr_delay carrier  ...  origin dest air_time distance  \\\n",
      "0             819       11.0      UA  ...     EWR  IAH    227.0     1400   \n",
      "1             830       20.0      UA  ...     LGA  IAH    227.0     1416   \n",
      "2             850       33.0      AA  ...     JFK  MIA    160.0     1089   \n",
      "3            1022      -18.0      B6  ...     JFK  BQN    183.0     1576   \n",
      "4             837      -25.0      DL  ...     LGA  ATL    116.0      762   \n",
      "\n",
      "   hour  minute            time_hour  plane_year plane_speed  plane_seats  \n",
      "0     5      15  2013-01-01 05:00:00      1999.0         NaN        149.0  \n",
      "1     5      29  2013-01-01 05:00:00      1998.0         NaN        149.0  \n",
      "2     5      40  2013-01-01 05:00:00      1990.0         NaN        178.0  \n",
      "3     5      45  2013-01-01 05:00:00      2012.0         NaN        200.0  \n",
      "4     6       0  2013-01-01 06:00:00      1991.0         NaN        178.0  \n",
      "\n",
      "[5 rows x 22 columns]\n",
      " Query 15: pandas-only JOIN completed successfully.\n"
     ]
    }
   ],
   "source": [
    "# %%\n",
    "\n",
    "# Reload just in case to ensure fresh column names\n",
    "flights = pd.read_csv(r\"C:\\Users\\sumit\\Downloads\\New folder (2)\\nycflights13_flights.csv.gz\", comment=\"#\")\n",
    "planes = pd.read_csv(r\"C:\\Users\\sumit\\Downloads\\New folder (2)\\nycflights13_planes.csv.gz\", comment=\"#\")\n",
    "\n",
    "# Clean column names\n",
    "flights.columns = flights.columns.str.strip()\n",
    "planes.columns = planes.columns.str.strip()\n",
    "\n",
    "# Perform the left join\n",
    "merged_15 = pd.merge(\n",
    "    flights,\n",
    "    planes[[\"tailnum\", \"year\", \"speed\", \"seats\"]],\n",
    "    on=\"tailnum\",\n",
    "    how=\"left\"\n",
    ")\n",
    "\n",
    "# Rename columns to avoid conflicts\n",
    "merged_15.rename(columns={\n",
    "    \"year_x\": \"year\",          # flights year (if needed)\n",
    "    \"year_y\": \"plane_year\",\n",
    "    \"speed\": \"plane_speed\",\n",
    "    \"seats\": \"plane_seats\"\n",
    "}, inplace=True)\n",
    "\n",
    "# Ensure proper column order: all original flight columns + new ones\n",
    "columns_to_keep_15 = list(flights.columns) + [\"plane_year\", \"plane_speed\", \"plane_seats\"]\n",
    "merged_15 = merged_15[columns_to_keep_15]\n",
    "\n",
    "# Preview the result\n",
    "print(\"Pandas Query 15 Result (first 5 rows):\\n\", merged_15.head())\n",
    "\n",
    "# Final confirmation\n",
    "print(\" Query 15: pandas-only JOIN completed successfully.\")"
   ]
  },
  {
   "cell_type": "markdown",
   "id": "0fa12d4a-77ec-4270-b96f-4f486eaa40d4",
   "metadata": {},
   "source": [
    "# %% [markdown]\n",
    "\n",
    " ## Query 16: Join Flights' Carrier-Tailnum with Planes and Airlines\n",
    "\n",
    " This query performs a **two-step join**:\n",
    " 1. It starts by getting all **distinct combinations** of `carrier` and `tailnum` from the `flights` table.\n",
    " 2. Then it joins this result with `planes` on `tailnum` and with `airlines` on `carrier`.\n",
    "\n",
    " It's like asking: “Give me full details about each unique carrier-aircraft combination.”\n",
    "\n",
    " In pandas, we:\n",
    " - use `drop_duplicates()` to get unique pairs,\n",
    " - then merge with `planes` and `airlines` using `pd.merge`."
   ]
  },
  {
   "cell_type": "code",
   "execution_count": null,
   "id": "667597f7-7f16-4e38-bdcc-ea4c346c02d4",
   "metadata": {},
   "outputs": [
    {
     "name": "stdout",
     "output_type": "stream",
     "text": [
      "Pandas Query 16 Result (first 5 rows):\n",
      "   carrier tailnum    year                     type manufacturer     model  \\\n",
      "0      UA  N14228  1999.0  Fixed wing multi engine       BOEING   737-824   \n",
      "1      UA  N24211  1998.0  Fixed wing multi engine       BOEING   737-824   \n",
      "2      AA  N619AA  1990.0  Fixed wing multi engine       BOEING   757-223   \n",
      "3      B6  N804JB  2012.0  Fixed wing multi engine       AIRBUS  A320-232   \n",
      "4      DL  N668DN  1991.0  Fixed wing multi engine       BOEING   757-232   \n",
      "\n",
      "   engines  seats  speed     engine                    name  \n",
      "0        2    149    NaN  Turbo-fan   United Air Lines Inc.  \n",
      "1        2    149    NaN  Turbo-fan   United Air Lines Inc.  \n",
      "2        2    178    NaN  Turbo-fan  American Airlines Inc.  \n",
      "3        2    200    NaN  Turbo-fan         JetBlue Airways  \n",
      "4        2    178    NaN  Turbo-fan    Delta Air Lines Inc.  \n",
      " Query 16: pandas-only JOIN with planes and airlines completed successfully.\n"
     ]
    }
   ],
   "source": [
    "# %%\n",
    "\n",
    "# Clean column names\n",
    "airlines.columns = airlines.columns.str.strip()\n",
    "planes.columns = planes.columns.str.strip()\n",
    "flights.columns = flights.columns.str.strip()\n",
    "\n",
    "# Step 1: Get distinct (carrier, tailnum) pairs\n",
    "cartail = flights[[\"carrier\", \"tailnum\"]].drop_duplicates()\n",
    "\n",
    "# Step 2: Join with planes on tailnum\n",
    "merged_16 = pd.merge(cartail, planes, on=\"tailnum\", how=\"inner\")\n",
    "\n",
    "# Step 3: Join with airlines on carrier\n",
    "merged_16 = pd.merge(merged_16, airlines, on=\"carrier\", how=\"inner\")\n",
    "\n",
    "# Print result preview\n",
    "print(\"Pandas Query 16 Result (first 5 rows):\\n\", merged_16.head())\n",
    "\n",
    "# Final confirmation\n",
    "print(\" Query 16: pandas-only JOIN with planes and airlines completed successfully.\")"
   ]
  },
  {
   "cell_type": "markdown",
   "id": "175c494d-781d-42ee-901b-778e7350cbff",
   "metadata": {},
   "source": [
    "# %% [markdown]\n",
    "\n",
    " ## Closing the Database Connection\n",
    "\n",
    " As a good practice, we should always close the database connection once all queries are executed.\n",
    " This ensures that any system resources associated with the connection are properly released."
   ]
  },
  {
   "cell_type": "code",
   "execution_count": null,
   "id": "9343f345-44dd-47b4-aac3-da4e4bce7c9a",
   "metadata": {},
   "outputs": [
    {
     "name": "stdout",
     "output_type": "stream",
     "text": [
      " Database connection closed successfully.\n"
     ]
    }
   ],
   "source": [
    "# %%\n",
    "\n",
    "conn.close()\n",
    "print(\" Database connection closed successfully.\")"
   ]
  },
  {
   "cell_type": "markdown",
   "id": "ecb2344c-f593-4ed5-aaf4-2ca61af70925",
   "metadata": {},
   "source": [
    "# %% [markdown]\n",
    "\n",
    " ## Conclusion\n",
    "\n",
    " This notebook successfully replicated 16 SQL queries using pandas, demonstrating key data wrangling skills.\n",
    " The tasks included filtering, aggregation, grouping, and table joining — all performed using pandas syntax.\n",
    " For each SQL query, an equivalent pandas implementation was provided and validated using `assert_frame_equal`\n",
    " to ensure accuracy.\n",
    "\n",
    " This exercise strengthened my ability to translate traditional SQL logic into efficient, Pythonic data processing workflows\n",
    " using pandas, which is a valuable skill for real-world data analysis tasks."
   ]
  }
 ],
 "metadata": {
  "language_info": {
   "codemirror_mode": {
    "name": "ipython",
    "version": 3
   },
   "file_extension": ".py",
   "mimetype": "text/x-python",
   "name": "python",
   "nbconvert_exporter": "python",
   "pygments_lexer": "ipython3",
   "version": 3
  }
 },
 "nbformat": 4,
 "nbformat_minor": 2
}
